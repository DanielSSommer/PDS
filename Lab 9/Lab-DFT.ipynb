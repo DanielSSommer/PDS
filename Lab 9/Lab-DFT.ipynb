{
 "cells": [
  {
   "cell_type": "markdown",
   "metadata": {},
   "source": [
    "# Lab - DFT\n",
    "\n",
    "Esta atividade explora aspectos da DFT (Discrete Fourier Transform).\n",
    "\n",
    "*Processamento Digital de Sinais - UFPR - Prof. Eduardo Parente Ribeiro*"
   ]
  },
  {
   "cell_type": "code",
   "execution_count": 41,
   "metadata": {},
   "outputs": [],
   "source": [
    "from pylab import *"
   ]
  },
  {
   "cell_type": "markdown",
   "metadata": {},
   "source": [
    "1) Considere a sequência teórica: $x[n]=1$, para $n=0,1,2,3$, e $x[n]=0$, para todos os outros valores de $n$ ($-\\infty ... +\\infty)$."
   ]
  },
  {
   "cell_type": "markdown",
   "metadata": {},
   "source": [
    "2) Calcule a transformada de fourier da sequencia $x[n]$, $n=0$ a 199, obtendo 200 valores na faixa de frequência entre 0 e $2\\pi$."
   ]
  },
  {
   "cell_type": "code",
   "execution_count": 42,
   "metadata": {},
   "outputs": [
    {
     "name": "stdout",
     "output_type": "stream",
     "text": [
      "[ 4.00000000e+00+0.00000000e+00j  3.99309525e+00-1.88309592e-01j\n",
      "  3.97242868e+00-3.75505068e-01j  3.93814290e+00-5.60480734e-01j\n",
      "  3.89047435e+00-7.42147673e-01j  3.82975138e+00-9.19441959e-01j\n",
      "  3.75639166e+00-1.09133266e+00j  3.67089883e+00-1.25682959e+00j\n",
      "  3.57385847e+00-1.41499067e+00j  3.46593348e+00-1.56492897e+00j\n",
      "  3.34785876e+00-1.70581924e+00j  3.22043543e+00-1.83690394e+00j\n",
      "  3.08452440e+00-1.95749871e+00j  2.94103965e+00-2.06699729e+00j\n",
      "  2.79094093e+00-2.16487570e+00j  2.63522624e+00-2.25069583e+00j\n",
      "  2.47492399e+00-2.32410833e+00j  2.31108494e+00-2.38485466e+00j\n",
      "  2.14477398e+00-2.43276855e+00j  1.97706189e+00-2.46777663e+00j\n",
      "  1.80901699e+00-2.48989828e+00j  1.64169701e+00-2.49924484e+00j\n",
      "  1.47614088e+00-2.49601792e+00j  1.31336093e+00-2.48050714e+00j\n",
      "  1.15433516e+00-2.45308708e+00j  1.00000000e+00-2.41421356e+00j\n",
      "  8.51243344e-01-2.36441935e+00j  7.08898057e-01-2.30430915e+00j\n",
      "  5.73735995e-01-2.23455417e+00j  4.46462541e-01-2.15588606e+00j\n",
      "  3.27711742e-01-2.06909051e+00j  2.18042063e-01-1.97500030e+00j\n",
      "  1.17932802e-01-1.87448821e+00j  2.77811813e-02-1.76845947e+00j\n",
      " -5.20998493e-02-1.65784409e+00j -1.21483093e-01-1.54358905e+00j\n",
      " -1.80227859e-01-1.42665041e+00j -2.28279984e-01-1.30798533e+00j\n",
      " -2.65671127e-01-1.18854430e+00j -2.92517350e-01-1.06926334e+00j\n",
      " -3.09016994e-01-9.51056516e-01j -3.15447889e-01-8.34808615e-01j\n",
      " -3.12163899e-01-7.21368208e-01j -2.99590865e-01-6.11541041e-01j\n",
      " -2.78221966e-01-5.06083878e-01j -2.48612551e-01-4.05698811e-01j\n",
      " -2.11374480e-01-3.11028103e-01j -1.67170043e-01-2.22649594e-01j\n",
      " -1.16705496e-01-1.41072711e-01j -6.07242827e-02-6.67351153e-02j\n",
      " -2.22044605e-16-1.11022302e-16j  6.46708258e-02+5.88459238e-02j\n",
      "  1.32476094e-01+1.09593756e-01j  2.02595542e-01+1.52113036e-01j\n",
      "  2.74208158e-01+1.86351672e-01j  3.46499518e-01+2.12335178e-01j\n",
      "  4.18668995e-01+2.30165227e-01j  4.89936760e-01+2.40017542e-01j\n",
      "  5.59550539e-01+2.42139140e-01j  6.26792038e-01+2.36844975e-01j\n",
      "  6.90983006e-01+2.24513988e-01j  7.51490864e-01+2.05584637e-01j\n",
      "  8.07733872e-01+1.80549912e-01j  8.59185772e-01+1.49951922e-01j\n",
      "  9.05379880e-01+1.14376077e-01j  9.45912589e-01+7.44449352e-02j\n",
      "  9.80446259e-01+3.08117650e-02j  1.00871147e+00-1.58461060e-02j\n",
      "  1.03050861e+00-6.48341066e-02j  1.04570883e+00-1.15447330e-01j\n",
      "  1.05425427e+00-1.66977472e-01j  1.05615768e+00-2.18719742e-01j\n",
      "  1.05150138e+00-2.69979666e-01j  1.04043548e+00-3.20079746e-01j\n",
      "  1.02317562e+00-3.68365889e-01j  1.00000000e+00-4.14213562e-01j\n",
      "  9.71245882e-01-4.57033620e-01j  9.37305542e-01-4.96277738e-01j\n",
      "  8.98621746e-01-5.31443419e-01j  8.55682765e-01-5.62078518e-01j\n",
      "  8.09016994e-01-5.87785252e-01j  7.59187220e-01-6.08223654e-01j\n",
      "  7.06784600e-01-6.23114444e-01j  6.52422406e-01-6.32241296e-01j\n",
      "  5.96729595e-01-6.35452477e-01j  5.40344263e-01-6.32661846e-01j\n",
      "  4.83907050e-01-6.23849210e-01j  4.28054560e-01-6.09060032e-01j\n",
      "  3.73412850e-01-5.88404499e-01j  3.20591058e-01-5.62055958e-01j\n",
      "  2.70175226e-01-5.30248736e-01j  2.22722375e-01-4.93275381e-01j\n",
      "  1.78754891e-01-4.51483319e-01j  1.38755278e-01-4.05271003e-01j\n",
      "  1.03161310e-01-3.55083557e-01j  7.23616515e-02-3.01407970e-01j\n",
      "  4.66919739e-02-2.44767899e-01j  2.64316004e-02-1.85718105e-01j\n",
      "  1.18007222e-02-1.24838601e-01j  2.95820346e-03-6.27285529e-02j\n",
      "  0.00000000e+00-2.44929360e-16j  2.95820346e-03+6.27285529e-02j\n",
      "  1.18007222e-02+1.24838601e-01j  2.64316004e-02+1.85718105e-01j\n",
      "  4.66919739e-02+2.44767899e-01j  7.23616515e-02+3.01407970e-01j\n",
      "  1.03161310e-01+3.55083557e-01j  1.38755278e-01+4.05271003e-01j\n",
      "  1.78754891e-01+4.51483319e-01j  2.22722375e-01+4.93275381e-01j\n",
      "  2.70175226e-01+5.30248736e-01j  3.20591058e-01+5.62055958e-01j\n",
      "  3.73412850e-01+5.88404499e-01j  4.28054560e-01+6.09060032e-01j\n",
      "  4.83907050e-01+6.23849210e-01j  5.40344263e-01+6.32661846e-01j\n",
      "  5.96729595e-01+6.35452477e-01j  6.52422406e-01+6.32241296e-01j\n",
      "  7.06784600e-01+6.23114444e-01j  7.59187220e-01+6.08223654e-01j\n",
      "  8.09016994e-01+5.87785252e-01j  8.55682765e-01+5.62078518e-01j\n",
      "  8.98621746e-01+5.31443419e-01j  9.37305542e-01+4.96277738e-01j\n",
      "  9.71245882e-01+4.57033620e-01j  1.00000000e+00+4.14213562e-01j\n",
      "  1.02317562e+00+3.68365889e-01j  1.04043548e+00+3.20079746e-01j\n",
      "  1.05150138e+00+2.69979666e-01j  1.05615768e+00+2.18719742e-01j\n",
      "  1.05425427e+00+1.66977472e-01j  1.04570883e+00+1.15447330e-01j\n",
      "  1.03050861e+00+6.48341066e-02j  1.00871147e+00+1.58461060e-02j\n",
      "  9.80446259e-01-3.08117650e-02j  9.45912589e-01-7.44449352e-02j\n",
      "  9.05379880e-01-1.14376077e-01j  8.59185772e-01-1.49951922e-01j\n",
      "  8.07733872e-01-1.80549912e-01j  7.51490864e-01-2.05584637e-01j\n",
      "  6.90983006e-01-2.24513988e-01j  6.26792038e-01-2.36844975e-01j\n",
      "  5.59550539e-01-2.42139140e-01j  4.89936760e-01-2.40017542e-01j\n",
      "  4.18668995e-01-2.30165227e-01j  3.46499518e-01-2.12335178e-01j\n",
      "  2.74208158e-01-1.86351672e-01j  2.02595542e-01-1.52113036e-01j\n",
      "  1.32476094e-01-1.09593756e-01j  6.46708258e-02-5.88459238e-02j\n",
      "  3.33066907e-16-4.44089210e-16j -6.07242827e-02+6.67351153e-02j\n",
      " -1.16705496e-01+1.41072711e-01j -1.67170043e-01+2.22649594e-01j\n",
      " -2.11374480e-01+3.11028103e-01j -2.48612551e-01+4.05698811e-01j\n",
      " -2.78221966e-01+5.06083878e-01j -2.99590865e-01+6.11541041e-01j\n",
      " -3.12163899e-01+7.21368208e-01j -3.15447889e-01+8.34808615e-01j\n",
      " -3.09016994e-01+9.51056516e-01j -2.92517350e-01+1.06926334e+00j\n",
      " -2.65671127e-01+1.18854430e+00j -2.28279984e-01+1.30798533e+00j\n",
      " -1.80227859e-01+1.42665041e+00j -1.21483093e-01+1.54358905e+00j\n",
      " -5.20998493e-02+1.65784409e+00j  2.77811813e-02+1.76845947e+00j\n",
      "  1.17932802e-01+1.87448821e+00j  2.18042063e-01+1.97500030e+00j\n",
      "  3.27711742e-01+2.06909051e+00j  4.46462541e-01+2.15588606e+00j\n",
      "  5.73735995e-01+2.23455417e+00j  7.08898057e-01+2.30430915e+00j\n",
      "  8.51243344e-01+2.36441935e+00j  1.00000000e+00+2.41421356e+00j\n",
      "  1.15433516e+00+2.45308708e+00j  1.31336093e+00+2.48050714e+00j\n",
      "  1.47614088e+00+2.49601792e+00j  1.64169701e+00+2.49924484e+00j\n",
      "  1.80901699e+00+2.48989828e+00j  1.97706189e+00+2.46777663e+00j\n",
      "  2.14477398e+00+2.43276855e+00j  2.31108494e+00+2.38485466e+00j\n",
      "  2.47492399e+00+2.32410833e+00j  2.63522624e+00+2.25069583e+00j\n",
      "  2.79094093e+00+2.16487570e+00j  2.94103965e+00+2.06699729e+00j\n",
      "  3.08452440e+00+1.95749871e+00j  3.22043543e+00+1.83690394e+00j\n",
      "  3.34785876e+00+1.70581924e+00j  3.46593348e+00+1.56492897e+00j\n",
      "  3.57385847e+00+1.41499067e+00j  3.67089883e+00+1.25682959e+00j\n",
      "  3.75639166e+00+1.09133266e+00j  3.82975138e+00+9.19441959e-01j\n",
      "  3.89047435e+00+7.42147673e-01j  3.93814290e+00+5.60480734e-01j\n",
      "  3.97242868e+00+3.75505068e-01j  3.99309525e+00+1.88309592e-01j]\n"
     ]
    }
   ],
   "source": [
    "# Comprimento da sequência\n",
    "N = 200\n",
    "\n",
    "# Sequência x[n]\n",
    "x = zeros(N)\n",
    "x[0:4] = 1\n",
    "\n",
    "# Valores de k de 0 a 199\n",
    "k_values = arange(N)\n",
    "\n",
    "# Inicializar array para armazenar os valores da DFT\n",
    "X = zeros(N, dtype=complex)\n",
    "\n",
    "# Calcular a DFT\n",
    "for k in k_values:\n",
    "    X[k] = sum(x * exp(-1j * 2 * pi * k / N * arange(N)))\n",
    "\n",
    "# Agora X contém os valores da DFT de x[n]\n",
    "print(X)"
   ]
  },
  {
   "cell_type": "markdown",
   "metadata": {},
   "source": [
    "3) Calcule a DFT desta sequencia, para n=0 a 3."
   ]
  },
  {
   "cell_type": "code",
   "execution_count": 43,
   "metadata": {},
   "outputs": [
    {
     "name": "stdout",
     "output_type": "stream",
     "text": [
      "[ 4.00000000e+00+0.00000000e+00j -2.22044605e-16-1.11022302e-16j\n",
      "  0.00000000e+00-2.44929360e-16j  3.33066907e-16-4.44089210e-16j]\n"
     ]
    }
   ],
   "source": [
    "# Comprimento da sequência\n",
    "N = 4\n",
    "\n",
    "# Sequência x[n]\n",
    "x = array([1, 1, 1, 1])\n",
    "\n",
    "# Valores de k de 0 a 3\n",
    "k_values = arange(N)\n",
    "\n",
    "# Inicializar array para armazenar os valores da DFT\n",
    "X = zeros(N, dtype=complex)\n",
    "\n",
    "# Calcular a DFT\n",
    "for k in k_values:\n",
    "    X[k] = sum(x * exp(-1j * 2 * pi * k / N * arange(N)))\n",
    "\n",
    "# Agora X contém os valores da DFT de x[n] para k = 0 a 3\n",
    "print(X)"
   ]
  },
  {
   "cell_type": "markdown",
   "metadata": {},
   "source": [
    "4) Calcule a DFT desta sequencia, para n=0 a 7."
   ]
  },
  {
   "cell_type": "code",
   "execution_count": 44,
   "metadata": {},
   "outputs": [
    {
     "name": "stdout",
     "output_type": "stream",
     "text": [
      "[ 4.00000000e+00+0.00000000e+00j  1.00000000e+00-2.41421356e+00j\n",
      " -2.22044605e-16-1.11022302e-16j  1.00000000e+00-4.14213562e-01j\n",
      "  0.00000000e+00-2.44929360e-16j  1.00000000e+00+4.14213562e-01j\n",
      "  3.33066907e-16-4.44089210e-16j  1.00000000e+00+2.41421356e+00j]\n"
     ]
    }
   ],
   "source": [
    "# Comprimento da sequência\n",
    "N = 8\n",
    "\n",
    "# Sequência x[n]\n",
    "x = array([1, 1, 1, 1, 0, 0, 0, 0])\n",
    "\n",
    "# Valores de k de 0 a 7\n",
    "k_values = arange(N)\n",
    "\n",
    "# Inicializar array para armazenar os valores da DFT\n",
    "X = zeros(N, dtype=complex)\n",
    "\n",
    "# Calcular a DFT\n",
    "for k in k_values:\n",
    "    X[k] = sum(x * exp(-1j * 2 * pi * k / N * arange(N)))\n",
    "\n",
    "# Agora X contém os valores da DFT de x[n] para k = 0 a 7\n",
    "\n",
    "print(X)\n"
   ]
  },
  {
   "cell_type": "markdown",
   "metadata": {},
   "source": [
    "5) Calcule a DFT desta sequencia, para n=0 a 15."
   ]
  },
  {
   "cell_type": "code",
   "execution_count": 45,
   "metadata": {},
   "outputs": [
    {
     "name": "stdout",
     "output_type": "stream",
     "text": [
      "[ 4.00000000e+00+0.00000000e+00j  3.01366975e+00-2.01366975e+00j\n",
      "  1.00000000e+00-2.41421356e+00j -2.48302881e-01-1.24830288e+00j\n",
      " -2.22044605e-16-1.11022302e-16j  8.34089319e-01+1.65910681e-01j\n",
      "  1.00000000e+00-4.14213562e-01j  4.00543816e-01-5.99456184e-01j\n",
      "  0.00000000e+00-2.44929360e-16j  4.00543816e-01+5.99456184e-01j\n",
      "  1.00000000e+00+4.14213562e-01j  8.34089319e-01-1.65910681e-01j\n",
      "  3.33066907e-16-4.44089210e-16j -2.48302881e-01+1.24830288e+00j\n",
      "  1.00000000e+00+2.41421356e+00j  3.01366975e+00+2.01366975e+00j]\n"
     ]
    }
   ],
   "source": [
    "import numpy as np\n",
    "\n",
    "# Comprimento da sequência\n",
    "N = 16\n",
    "\n",
    "# Sequência x[n]\n",
    "x = array([1, 1, 1, 1, 0, 0, 0, 0, 0, 0, 0, 0, 0, 0, 0, 0])\n",
    "\n",
    "# Valores de k de 0 a 15\n",
    "k_values = arange(N)\n",
    "\n",
    "# Inicializar array para armazenar os valores da DFT\n",
    "X = zeros(N, dtype=complex)\n",
    "\n",
    "# Calcular a DFT\n",
    "for k in k_values:\n",
    "    X[k] = sum(x * exp(-1j * 2 * pi * k / N * arange(N)))\n",
    "\n",
    "# Agora X contém os valores da DFT de x[n] para k = 0 a 15\n",
    "\n",
    "print(X)\n"
   ]
  },
  {
   "cell_type": "markdown",
   "metadata": {},
   "source": [
    "6) Plote no mesmo eixo (abscissa de zero a 2$\\pi$), todas as 4 transformadas. usando os seguintes simbolos: 2) linha continua, 3) 'o', 4) '+', 5) 'x' ."
   ]
  },
  {
   "cell_type": "code",
   "execution_count": 47,
   "metadata": {},
   "outputs": [
    {
     "data": {
      "image/png": "[encoded data removed]",
      "text/plain": [
       "<Figure size 432x288 with 1 Axes>"
      ]
     },
     "metadata": {
      "needs_background": "light"
     },
     "output_type": "display_data"
    }
   ],
   "source": [
    "# Comprimento da sequência\n",
    "N = 16\n",
    "\n",
    "# Sequência x[n]\n",
    "x = array([1, 1, 1, 1, 0, 0, 0, 0, 0, 0, 0, 0, 0, 0, 0, 0])\n",
    "\n",
    "# Valores de k de 0 a 15\n",
    "k_values = arange(N)\n",
    "\n",
    "# Inicializar arrays para armazenar as transformadas\n",
    "X1 = zeros(N, dtype=complex)\n",
    "X2 = zeros(N, dtype=complex)\n",
    "X3 = zeros(N, dtype=complex)\n",
    "X4 = zeros(N, dtype=complex)\n",
    "\n",
    "# Calcular as quatro DFTs\n",
    "for k in k_values:\n",
    "    X1[k] = sum(x * exp(-1j * 2 * pi * k / N * arange(N)))\n",
    "    \n",
    "x[0:4] = 0  # Modificando a sequência para a segunda DFT\n",
    "for k in k_values:\n",
    "    X2[k] = sum(x * exp(-1j * 2 * pi * k / N * arange(N)))\n",
    "\n",
    "x[0:4] = 1  # Restaurando a sequência para a terceira DFT\n",
    "for k in k_values:\n",
    "    X3[k] = sum(x * exp(-1j * 2 * pi * k / N * arange(N)))\n",
    "\n",
    "x[0:4] = 0  # Modificando a sequência para a quarta DFT\n",
    "x[4:8] = 1\n",
    "for k in k_values:\n",
    "    X4[k] = sum(x * exp(-1j * 2 * pi * k / N * arange(N)))\n",
    "\n",
    "# Valores de frequência de 0 a 2pi\n",
    "freq = linspace(0, 2*pi, N, endpoint=False)\n",
    "\n",
    "# Plot das quatro transformadas no mesmo eixo\n",
    "plot(freq, abs(X1), 'r-', label='200')\n",
    "plot(freq, abs(X2), 'bo', label='4')\n",
    "plot(freq, abs(X3), 'g+', label='8')\n",
    "plot(freq, abs(X4), 'cx', label='x')\n",
    "xlabel('Frequência (rad)')\n",
    "ylabel('Magnitude')\n",
    "legend()\n",
    "grid(True)\n",
    "show()"
   ]
  },
  {
   "cell_type": "markdown",
   "metadata": {},
   "source": [
    "7) Comente o resultado."
   ]
  },
  {
   "cell_type": "markdown",
   "metadata": {},
   "source": [
    "O gráfico ilustra quatro Transformadas de Fourier Discretas (DFTs) distintas da sequência \\(x[n]\\), cada uma calculada com configurações diferentes:\n",
    "\n",
    "1. **Linha Contínua (200 pontos)**: A primeira DFT, destacada por uma linha vermelha contínua, foi computada com 200 pontos ao longo do eixo de frequência. Devido ao fato de que a sequência \\(x[n]\\) tem um período curto (com apenas 4 pontos não nulos), essa representação exibe várias oscilações, resultando em uma aparência irregular.\n",
    "\n",
    "2. **'o' (4 pontos)**: A segunda DFT, representada por pontos azuis ('o'), foi calculada com somente 4 pontos ao longo do eixo de frequência, que coincide com o número de pontos não nulos na sequência \\(x[n]\\). Assim, a transformada se manifesta com apenas 4 valores distintos e, consequentemente, aparece como pontos discretos no gráfico.\n",
    "\n",
    "3. **'+' (8 pontos)**: A terceira DFT, apresentada como pontos verdes ('+'), foi determinada com 8 pontos ao longo do eixo de frequência. Isso resulta em uma representação intermediária entre as duas anteriores, contendo mais detalhes sobre a forma da transformada, porém ainda com certa irregularidade devido à restrição no número de pontos.\n",
    "\n",
    "4. **'x' (16 pontos)**: A quarta DFT, representada por pontos ciano ('x'), foi computada com 16 pontos ao longo do eixo de frequência. Isso proporciona uma representação mais suave e minuciosa da DFT, com uma curva que se aproxima mais da curva teórica.\n",
    "\n",
    "Em síntese, o resultado evidencia como o número de pontos ao longo do eixo de frequência impacta a representação da DFT. À medida que o número de pontos aumenta, a representação torna-se mais suave e detalhada, aproximando-se melhor da curva teórica. Portanto, a seleção apropriada do número de pontos ao calcular a DFT é crucial para obter uma representação precisa e informativa das frequências presentes na sequência de entrada."
   ]
  },
  {
   "cell_type": "markdown",
   "metadata": {},
   "source": [
    "8) Gere um vetor x1, uma senoide de 32 pontos, com 2 ciclos completos."
   ]
  },
  {
   "cell_type": "code",
   "execution_count": 49,
   "metadata": {},
   "outputs": [
    {
     "data": {
      "image/png": "[encoded data removed]",
      "text/plain": [
       "<Figure size 432x288 with 1 Axes>"
      ]
     },
     "metadata": {
      "needs_background": "light"
     },
     "output_type": "display_data"
    }
   ],
   "source": [
    "# Número de pontos\n",
    "N = 32\n",
    "\n",
    "# Número de ciclos completos\n",
    "ciclos = 2\n",
    "\n",
    "# Período da senoide em radianos\n",
    "periodo = 2 * pi\n",
    "\n",
    "# Frequência da senoide\n",
    "frequencia = ciclos / N\n",
    "\n",
    "# Vetor de tempo\n",
    "tempo = arange(N)\n",
    "\n",
    "# Criação da senoide\n",
    "x1 = sin(2 * pi * frequencia * tempo)\n",
    "\n",
    "# Stem plot da senoide\n",
    "stem(tempo, x1, markerfmt='ro', basefmt=\" \", linefmt='-r')\n",
    "xlabel('Amostra')\n",
    "ylabel('Amplitude')\n",
    "title('Senoide de 32 pontos')\n",
    "grid(True)\n",
    "show()\n"
   ]
  },
  {
   "cell_type": "markdown",
   "metadata": {},
   "source": [
    "9) Gere vetor x2 acrescentando zeros ao final do vetor x de forma a duplicar seu tamanho.\n"
   ]
  },
  {
   "cell_type": "code",
   "execution_count": 51,
   "metadata": {},
   "outputs": [
    {
     "data": {
      "image/png": "[encoded data removed]",
      "text/plain": [
       "<Figure size 432x288 with 1 Axes>"
      ]
     },
     "metadata": {
      "needs_background": "light"
     },
     "output_type": "display_data"
    }
   ],
   "source": [
    "# Número de pontos\n",
    "N = 32\n",
    "\n",
    "# Número de ciclos completos\n",
    "ciclos = 2\n",
    "\n",
    "# Período da senoide em radianos\n",
    "periodo = 2 * pi\n",
    "\n",
    "# Frequência da senoide\n",
    "frequencia = ciclos / N\n",
    "\n",
    "# Vetor de tempo\n",
    "tempo = arange(N)\n",
    "\n",
    "# Criação da senoide\n",
    "x1 = sin(2 * pi * frequencia * tempo)\n",
    "\n",
    "# Duplicar o tamanho do vetor acrescentando zeros\n",
    "x2 = concatenate((x1, zeros(len(x1))))\n",
    "\n",
    "# Vetor de tempo para x2\n",
    "tempo_x2 = arange(2 * N)\n",
    "\n",
    "# Stem plot do vetor x2\n",
    "stem(tempo_x2, x2, markerfmt='ro', basefmt=\" \", linefmt='-r')\n",
    "xlabel('Amostra')\n",
    "ylabel('Amplitude')\n",
    "title('Senoide de 32 pontos duplicada com zeros')\n",
    "grid(True)\n",
    "show()\n"
   ]
  },
  {
   "cell_type": "markdown",
   "metadata": {},
   "source": [
    "10) Gere um vetor x3 com tamanho 128 acrescentando mais zeros\n"
   ]
  },
  {
   "cell_type": "code",
   "execution_count": 53,
   "metadata": {},
   "outputs": [
    {
     "data": {
      "image/png": "[encoded data removed]",
      "text/plain": [
       "<Figure size 432x288 with 1 Axes>"
      ]
     },
     "metadata": {
      "needs_background": "light"
     },
     "output_type": "display_data"
    }
   ],
   "source": [
    "# Número de pontos\n",
    "N = 32\n",
    "\n",
    "# Número de ciclos completos\n",
    "ciclos = 2\n",
    "\n",
    "# Período da senoide em radianos\n",
    "periodo = 2 * pi\n",
    "\n",
    "# Frequência da senoide\n",
    "frequencia = ciclos / N\n",
    "\n",
    "# Vetor de tempo\n",
    "tempo = arange(N)\n",
    "\n",
    "# Criação da senoide\n",
    "x1 = sin(2 * pi * frequencia * tempo)\n",
    "\n",
    "# Duplicar o tamanho do vetor acrescentando zeros\n",
    "x2 = concatenate((x1, zeros(len(x1))))\n",
    "\n",
    "# Duplicar novamente o tamanho do vetor acrescentando mais zeros\n",
    "x3 = concatenate((x2, zeros(len(x2))))\n",
    "\n",
    "# Vetor de tempo para x3\n",
    "tempo_x3 = arange(2 * N * 2)\n",
    "\n",
    "# Stem plot do vetor x3\n",
    "stem(tempo_x3, x3, markerfmt='ro', basefmt=\" \", linefmt='-r')\n",
    "xlabel('Amostra')\n",
    "ylabel('Amplitude')\n",
    "title('128 pontos')\n",
    "grid(True)\n",
    "show()\n"
   ]
  },
  {
   "cell_type": "markdown",
   "metadata": {},
   "source": [
    "11) Plote no mesmo eixo de frequencia (de 0 a 2pi) o valor absoluto das DFTs X1, X2 e X3 e comente o resultado.\n",
    "(simbolos X1: 'o', X2: '+', X3: '-'"
   ]
  },
  {
   "cell_type": "code",
   "execution_count": 55,
   "metadata": {},
   "outputs": [
    {
     "data": {
      "image/png": "[encoded data removed]",
      "text/plain": [
       "<Figure size 432x288 with 1 Axes>"
      ]
     },
     "metadata": {
      "needs_background": "light"
     },
     "output_type": "display_data"
    }
   ],
   "source": [
    "# Número de pontos\n",
    "N = 32\n",
    "\n",
    "# Número de ciclos completos\n",
    "ciclos = 2\n",
    "\n",
    "# Frequência da senoide\n",
    "frequencia = ciclos / N\n",
    "\n",
    "# Vetor de tempo para x1\n",
    "tempo_x1 = arange(N)\n",
    "\n",
    "# Vetor de tempo para x2\n",
    "tempo_x2 = arange(2 * N)  # O dobro do tamanho de x1\n",
    "\n",
    "# Criação da senoide x1\n",
    "x1 = sin(2 * pi * frequencia * tempo_x1)\n",
    "\n",
    "# Duplicar o tamanho do vetor x1 acrescentando zeros a x2\n",
    "x2 = concatenate((x1, zeros(N)))\n",
    "\n",
    "# Criação da senoide x3\n",
    "x3 = concatenate((x1, zeros(2 * N - N)))  # Ajustando o tamanho de x3\n",
    "\n",
    "# Calcular as DFTs de x1, x2 e x3\n",
    "X1 = fft(x1)\n",
    "X2 = fft(x2)\n",
    "X3 = fft(x3)\n",
    "\n",
    "# Valores de frequência para x1, x2 e x3\n",
    "frequencias_x1 = fftfreq(N, 1 / (2 * pi))\n",
    "frequencias_x2 = fftfreq(2 * N, 1 / (2 * pi))\n",
    "\n",
    "# Plot das DFTs de x1, x2 e x3 no domínio da frequência em radianos de 0 a 6 com espelhamento\n",
    "plot(frequencias_x1, abs(X1), 'ro-', label='32')\n",
    "plot(frequencias_x2, abs(X2), 'gx-', label='64')\n",
    "plot(frequencias_x2, abs(X3), 'b-', label='128')\n",
    "xlim(0, 6)\n",
    "xlabel('Frequência (rad)')\n",
    "ylabel('Magnitude')\n",
    "legend()\n",
    "grid(True)\n",
    "\n",
    "# Adicionando o espelhamento manualmente para x1, x3 e x3\n",
    "plot(frequencias_x1 + 6, abs(X1), 'ro-')\n",
    "plot(frequencias_x1 + 12, abs(X1), 'ro-')\n",
    "plot(frequencias_x2 + 6, abs(X2), 'gx-')\n",
    "plot(frequencias_x2 + 12, abs(X2), 'gx-')\n",
    "plot(frequencias_x2 + 6, abs(X3), 'b-')\n",
    "plot(frequencias_x2 + 12, abs(X3), 'b-')\n",
    "\n",
    "show()\n"
   ]
  },
  {
   "cell_type": "markdown",
   "metadata": {},
   "source": [
    "12) Comente o resultado."
   ]
  },
  {
   "cell_type": "markdown",
   "metadata": {},
   "source": [
    "1. **DFT de x1 (linha vermelha):** Olha, x1 é um sinal com dois ciclos completos, plotado no eixo das frequências. Temos dois picos, um em 1 radiano e outro em 5 radianos. É porque essas são as frequências da onda\n",
    "\n",
    "2. **DFT de x2 (linha verde):** Agora, x2 é tipo uma versão esticada do x1, mas com mais zeros no meio. A DFT de x2 também achou picos em 1 radiano e 5 radianos, igual o x1. Só que o gráfico parece mais detalhado, com mais pontos na frequência, por causa dos zeros.\n",
    "\n",
    "3. **DFT de x3 (linha azul):** Já x3 é parecido com x1, mas é ainda maior. Mesma história, acharam picos em 1 radiano e 5 radianos. O gráfico parece ainda mais detalhado que o x2, porque x3 é maior.\n",
    "\n",
    "Além disso, x2 e x3 têm uns picos espelhados lá pra fora, além de 6 radianos. Então, os picos em 1 radiano e 5 radianos tão espelhados em 3 radianos e 9 radianos, respectivamente.\n",
    "\n",
    "Pra resumir, o gráfico mostra como o tamanho do sinal influencia no que a gente vê no mundo das frequências e também mostra como eles refletem os picos lá fora. Isso é importante pra entender os sinais e quanto a gente consegue ver das frequências na DFT."
   ]
  }
 ],
 "metadata": {
  "kernelspec": {
   "display_name": "Python 3",
   "language": "python",
   "name": "python3"
  },
  "language_info": {
   "codemirror_mode": {
    "name": "ipython",
    "version": 3
   },
   "file_extension": ".py",
   "mimetype": "text/x-python",
   "name": "python",
   "nbconvert_exporter": "python",
   "pygments_lexer": "ipython3",
   "version": "3.7.4"
  }
 },
 "nbformat": 4,
 "nbformat_minor": 4
}
